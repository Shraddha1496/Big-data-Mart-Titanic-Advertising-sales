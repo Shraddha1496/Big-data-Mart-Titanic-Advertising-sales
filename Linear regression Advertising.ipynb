{
 "cells": [
  {
   "cell_type": "markdown",
   "metadata": {},
   "source": [
    "## Linear Regression"
   ]
  },
  {
   "cell_type": "markdown",
   "metadata": {},
   "source": [
    " - Linear Regression is a supervised Machinne Learning that we used to predict the <b>continuous data.</b>\n",
    "    \n",
    "<b><font size='4'>In order to build the model we need : </font></b>\n",
    "  1. Descret & Continuous variable\n",
    "  2. best fit line\n",
    "  3. Continuous dependent variable\n",
    "  \n",
    "<b>The equation of linear regression is : </b><br>\n",
    "<br>\n",
    "<center>$Y = mx + c$</center>"
   ]
  },
  {
   "cell_type": "markdown",
   "metadata": {},
   "source": [
    "### Problem Statement : "
   ]
  },
  {
   "cell_type": "code",
   "execution_count": 2,
   "metadata": {},
   "outputs": [],
   "source": [
    "import pandas as pd\n",
    "import matplotlib.pyplot as plt\n",
    "import pickle\n",
    "%matplotlib inline"
   ]
  },
  {
   "cell_type": "code",
   "execution_count": 3,
   "metadata": {},
   "outputs": [
    {
     "data": {
      "text/html": [
       "<div>\n",
       "<style scoped>\n",
       "    .dataframe tbody tr th:only-of-type {\n",
       "        vertical-align: middle;\n",
       "    }\n",
       "\n",
       "    .dataframe tbody tr th {\n",
       "        vertical-align: top;\n",
       "    }\n",
       "\n",
       "    .dataframe thead th {\n",
       "        text-align: right;\n",
       "    }\n",
       "</style>\n",
       "<table border=\"1\" class=\"dataframe\">\n",
       "  <thead>\n",
       "    <tr style=\"text-align: right;\">\n",
       "      <th></th>\n",
       "      <th>Unnamed: 0</th>\n",
       "      <th>TV</th>\n",
       "      <th>radio</th>\n",
       "      <th>newspaper</th>\n",
       "      <th>sales</th>\n",
       "    </tr>\n",
       "  </thead>\n",
       "  <tbody>\n",
       "    <tr>\n",
       "      <th>0</th>\n",
       "      <td>1</td>\n",
       "      <td>230.1</td>\n",
       "      <td>37.8</td>\n",
       "      <td>69.2</td>\n",
       "      <td>22.1</td>\n",
       "    </tr>\n",
       "    <tr>\n",
       "      <th>1</th>\n",
       "      <td>2</td>\n",
       "      <td>44.5</td>\n",
       "      <td>39.3</td>\n",
       "      <td>45.1</td>\n",
       "      <td>10.4</td>\n",
       "    </tr>\n",
       "    <tr>\n",
       "      <th>2</th>\n",
       "      <td>3</td>\n",
       "      <td>17.2</td>\n",
       "      <td>45.9</td>\n",
       "      <td>69.3</td>\n",
       "      <td>9.3</td>\n",
       "    </tr>\n",
       "    <tr>\n",
       "      <th>3</th>\n",
       "      <td>4</td>\n",
       "      <td>151.5</td>\n",
       "      <td>41.3</td>\n",
       "      <td>58.5</td>\n",
       "      <td>18.5</td>\n",
       "    </tr>\n",
       "    <tr>\n",
       "      <th>4</th>\n",
       "      <td>5</td>\n",
       "      <td>180.8</td>\n",
       "      <td>10.8</td>\n",
       "      <td>58.4</td>\n",
       "      <td>12.9</td>\n",
       "    </tr>\n",
       "  </tbody>\n",
       "</table>\n",
       "</div>"
      ],
      "text/plain": [
       "   Unnamed: 0     TV  radio  newspaper  sales\n",
       "0           1  230.1   37.8       69.2   22.1\n",
       "1           2   44.5   39.3       45.1   10.4\n",
       "2           3   17.2   45.9       69.3    9.3\n",
       "3           4  151.5   41.3       58.5   18.5\n",
       "4           5  180.8   10.8       58.4   12.9"
      ]
     },
     "execution_count": 3,
     "metadata": {},
     "output_type": "execute_result"
    }
   ],
   "source": [
    "data = pd.read_csv('Advertising.csv')\n",
    "data.head()"
   ]
  },
  {
   "cell_type": "code",
   "execution_count": 4,
   "metadata": {},
   "outputs": [],
   "source": [
    "# here, i need to predict sales on the bases of features."
   ]
  },
  {
   "cell_type": "markdown",
   "metadata": {},
   "source": [
    "Q.What are the <b>features?<br></b>\n",
    " - TV<br>\n",
    " - radio<br>\n",
    " - newspaper<br>\n",
    "    \n",
    "Q.What is the <b>response?<br></b>\n",
    " - sales"
   ]
  },
  {
   "cell_type": "code",
   "execution_count": 5,
   "metadata": {},
   "outputs": [
    {
     "data": {
      "text/plain": [
       "(200, 5)"
      ]
     },
     "execution_count": 5,
     "metadata": {},
     "output_type": "execute_result"
    }
   ],
   "source": [
    "# check how big is my data\n",
    "data.shape"
   ]
  },
  {
   "cell_type": "code",
   "execution_count": 6,
   "metadata": {},
   "outputs": [
    {
     "name": "stdout",
     "output_type": "stream",
     "text": [
      "<class 'pandas.core.frame.DataFrame'>\n",
      "RangeIndex: 200 entries, 0 to 199\n",
      "Data columns (total 5 columns):\n",
      " #   Column      Non-Null Count  Dtype  \n",
      "---  ------      --------------  -----  \n",
      " 0   Unnamed: 0  200 non-null    int64  \n",
      " 1   TV          200 non-null    float64\n",
      " 2   radio       200 non-null    float64\n",
      " 3   newspaper   200 non-null    float64\n",
      " 4   sales       200 non-null    float64\n",
      "dtypes: float64(4), int64(1)\n",
      "memory usage: 7.9 KB\n"
     ]
    }
   ],
   "source": [
    "# I want to know the information of my dataset\n",
    "data.info()  #print summary of data"
   ]
  },
  {
   "cell_type": "code",
   "execution_count": 7,
   "metadata": {},
   "outputs": [
    {
     "data": {
      "text/plain": [
       "Unnamed: 0    0\n",
       "TV            0\n",
       "radio         0\n",
       "newspaper     0\n",
       "sales         0\n",
       "dtype: int64"
      ]
     },
     "execution_count": 7,
     "metadata": {},
     "output_type": "execute_result"
    }
   ],
   "source": [
    "# finding the missing values from each column of my dataset\n",
    "data.isna().sum()"
   ]
  },
  {
   "cell_type": "markdown",
   "metadata": {},
   "source": [
    "<b> Now, lets showcase the relationship bet feature & target column</b>\n",
    "1. TV vs sales<br>\n",
    "2. radio vs sales<br>\n",
    "3. newspaper vs sales<br>\n",
    "\n",
    "<I>Check which feature gives the majority sales</I>"
   ]
  },
  {
   "cell_type": "code",
   "execution_count": 8,
   "metadata": {},
   "outputs": [
    {
     "data": {
      "image/png": "[encoded data removed]",
      "text/plain": [
       "<Figure size 1080x360 with 3 Axes>"
      ]
     },
     "metadata": {
      "needs_background": "light"
     },
     "output_type": "display_data"
    }
   ],
   "source": [
    "fig,axs = plt.subplots(1,3) #fig is used to save data\n",
    "\n",
    "data.plot(kind='scatter',x='TV',y='sales',figsize=(15,5),ax=axs[0]) #axs[0] = first column\n",
    "data.plot(kind='scatter',x='radio',y='sales',figsize=(15,5),ax=axs[1])\n",
    "data.plot(kind='scatter',x='newspaper',y='sales',figsize=(15,5),ax=axs[2])\n",
    "fig.savefig('test-data.jpg')"
   ]
  },
  {
   "cell_type": "markdown",
   "metadata": {},
   "source": [
    "<b>My Analysis is : </b><br>\n",
    "<I> The relationship between TV vs sales & radio vs sales seems increase in the sales.But,\n",
    "The relationship between newspaper & sales dosen't look good, it seems like investing in newspaper advertisement is waste of money\n",
    "but I can't relay on one proof, I've to check other available options as well.Because the client is investing millions,so as an engineer\n",
    "have to check all possibilities and then give a surity.<I>"
   ]
  },
  {
   "cell_type": "markdown",
   "metadata": {},
   "source": [
    "## Questions about the data : \n",
    "A generic question shall be : How the company should optimize the spends on advertising, to maximize the sales?<br>\n",
    "> <b>This generic question might lead you to specific questions : <br></b>\n",
    "        1.What's the relationship between ads & sales?<br>\n",
    "        2.How prominent is that realtionship?<br>\n",
    "        3.Which ad type contribute to sales?<br>\n",
    "        4.How each ad contributes to sales?<br>\n",
    "        5.Can sales be predicted based on the expense of the advertisement?<br>\n",
    "\n",
    "We'll explore questions below : "
   ]
  },
  {
   "cell_type": "markdown",
   "metadata": {},
   "source": [
    "<b>From the relationship diagram above.It seems the realtionship between TV,radio ads with sales is typically looks like this :"
   ]
  },
  {
   "cell_type": "code",
   "execution_count": 9,
   "metadata": {},
   "outputs": [
    {
     "data": {
      "image/png": "[encoded data removed]",
      "text/plain": [
       "<IPython.core.display.Image object>"
      ]
     },
     "execution_count": 9,
     "metadata": {
      "image/png": {
       "height": 500,
       "width": 500
      }
     },
     "output_type": "execute_result"
    }
   ],
   "source": [
    "from IPython.display import Image\n",
    "Image(\"SimpleLinearRegression.png\",width=500,height=500)"
   ]
  },
  {
   "cell_type": "markdown",
   "metadata": {},
   "source": [
    "Hence, we can build a model using linear regression algorithm."
   ]
  },
  {
   "cell_type": "markdown",
   "metadata": {},
   "source": [
    "## Simple Linear Regression <br>\n",
    "> - Simple Linear Regression is called as predicting a quantitative response(lable) on the bases of single feature.<br>\n",
    "> - The mathematical expression of SLR : <br>\n",
    "<center>$Y = mx + c$ </center><br>\n",
    "\n",
    "Where : <br>\n",
    " - m is coefficient of x\n",
    " - c is intercept\n",
    " - x is the feature\n",
    " - y is the response or target variable<br>"
   ]
  },
  {
   "cell_type": "markdown",
   "metadata": {},
   "source": [
    "#### 2. Best Fit Line<br>\n",
    " - From the above distribution we are able to draw a best fit line. <br>\n",
    " - How it is calculated?<br>\n",
    "     - Difference between the actual point & predicted point is called as <b>Residual.</b><br>\n",
    "\n",
    "We'll discuss this in detail."
   ]
  },
  {
   "cell_type": "markdown",
   "metadata": {},
   "source": [
    "<b>Que : How do you know, this is the best fit line?</b>"
   ]
  },
  {
   "cell_type": "markdown",
   "metadata": {},
   "source": [
    "The best fit line is btained by minimizing the residual.Residual is the distance between actual Y & predicted Y shown as below:"
   ]
  },
  {
   "cell_type": "code",
   "execution_count": 10,
   "metadata": {},
   "outputs": [
    {
     "data": {
      "image/png": "[encoded data removed]",
      "text/plain": [
       "<IPython.core.display.Image object>"
      ]
     },
     "execution_count": 10,
     "metadata": {
      "image/png": {
       "height": 300,
       "width": 400
      }
     },
     "output_type": "execute_result"
    }
   ],
   "source": [
    "from IPython.display import Image\n",
    "Image(\"Residual.png\",width=400,height=300)"
   ]
  },
  {
   "cell_type": "markdown",
   "metadata": {},
   "source": [
    "Mathimatically, <b>Residual</b> is: <center>$r = Y - (mx + c)$</center>"
   ]
  },
  {
   "cell_type": "markdown",
   "metadata": {},
   "source": [
    "hence, the sum of <b>square of residual</b> is : <br>"
   ]
  },
  {
   "cell_type": "code",
   "execution_count": 11,
   "metadata": {},
   "outputs": [
    {
     "data": {
      "image/png": "[encoded data removed]",
      "text/plain": [
       "<IPython.core.display.Image object>"
      ]
     },
     "execution_count": 11,
     "metadata": {
      "image/png": {
       "height": 300,
       "width": 300
      }
     },
     "output_type": "execute_result"
    }
   ],
   "source": [
    "from IPython.display import Image\n",
    "Image(\"Residual-formula.png\",width=300,height=300)"
   ]
  },
  {
   "cell_type": "markdown",
   "metadata": {},
   "source": [
    "<img src=\"Residual-formula.png\" height=\"250\" width=\"300\"/>   "
   ]
  },
  {
   "cell_type": "markdown",
   "metadata": {},
   "source": [
    "<img src=\"rss.png\" height=250, width=300/>"
   ]
  },
  {
   "cell_type": "markdown",
   "metadata": {},
   "source": [
    "## Gradient Descent"
   ]
  },
  {
   "cell_type": "markdown",
   "metadata": {},
   "source": [
    " - GD works behind the scene, it trains a model in such a way where it always tries to reach global minima.\n",
    " - learning rate\n",
    " - See the handwritten notes,explianed in detail"
   ]
  },
  {
   "cell_type": "markdown",
   "metadata": {},
   "source": [
    "<img src=\"Gradient Descent.gif\" width=\"300\" height=\"300\"/>"
   ]
  },
  {
   "cell_type": "markdown",
   "metadata": {},
   "source": [
    "### Building my 1st Model<br>\n",
    " - Simple Linear Regression"
   ]
  },
  {
   "cell_type": "code",
   "execution_count": 12,
   "metadata": {},
   "outputs": [
    {
     "data": {
      "text/plain": [
       "LinearRegression()"
      ]
     },
     "execution_count": 12,
     "metadata": {},
     "output_type": "execute_result"
    }
   ],
   "source": [
    "x = data[['TV']]\n",
    "y = data.sales\n",
    "\n",
    "from sklearn.linear_model import LinearRegression  #all libraries are case sensitive\n",
    "\n",
    "lm = LinearRegression()\n",
    "\n",
    "lm.fit(x,y)"
   ]
  },
  {
   "cell_type": "code",
   "execution_count": 13,
   "metadata": {},
   "outputs": [
    {
     "name": "stdout",
     "output_type": "stream",
     "text": [
      "7.032593549127693\n",
      "[0.04753664]\n"
     ]
    }
   ],
   "source": [
    "#print intercept and coefficient\n",
    "\n",
    "print(lm.intercept_)\n",
    "print(lm.coef_)"
   ]
  },
  {
   "cell_type": "markdown",
   "metadata": {},
   "source": [
    "### Prediction using the model<br>\n",
    "\n",
    "If the expense on TV ad is 50,000 rupee,what will be the sales prediction for that market?<br>\n",
    "<center>$Y = mx + c$<br>\n",
    "Y = 0.04753664 * 50 + 7.032593549127693</center>"
   ]
  },
  {
   "cell_type": "code",
   "execution_count": 14,
   "metadata": {},
   "outputs": [
    {
     "data": {
      "text/plain": [
       "9.409425549127693"
      ]
     },
     "execution_count": 14,
     "metadata": {},
     "output_type": "execute_result"
    }
   ],
   "source": [
    "# calculate the prediction\n",
    "7.032593549127693 + 0.04753664 * 50"
   ]
  },
  {
   "cell_type": "code",
   "execution_count": 15,
   "metadata": {},
   "outputs": [],
   "source": [
    "# this is suppose to be my prediction, lets check."
   ]
  },
  {
   "cell_type": "code",
   "execution_count": 16,
   "metadata": {},
   "outputs": [
    {
     "data": {
      "text/plain": [
       "array([9.40942557])"
      ]
     },
     "execution_count": 16,
     "metadata": {},
     "output_type": "execute_result"
    }
   ],
   "source": [
    "# let's do it by code : \n",
    "\n",
    "import pandas as pd\n",
    "\n",
    "x_new = pd.DataFrame({'TV' : [50]})\n",
    "\n",
    "lm.predict(x_new)"
   ]
  },
  {
   "cell_type": "code",
   "execution_count": 17,
   "metadata": {},
   "outputs": [],
   "source": [
    "# hence, got the same number which we predicted, it means model is working perfectly fine."
   ]
  },
  {
   "cell_type": "markdown",
   "metadata": {},
   "source": [
    "## Plotting a least squared line"
   ]
  },
  {
   "cell_type": "markdown",
   "metadata": {},
   "source": [
    "Here, how the line is being drawn.let's see how"
   ]
  },
  {
   "cell_type": "code",
   "execution_count": 18,
   "metadata": {},
   "outputs": [
    {
     "data": {
      "text/html": [
       "<div>\n",
       "<style scoped>\n",
       "    .dataframe tbody tr th:only-of-type {\n",
       "        vertical-align: middle;\n",
       "    }\n",
       "\n",
       "    .dataframe tbody tr th {\n",
       "        vertical-align: top;\n",
       "    }\n",
       "\n",
       "    .dataframe thead th {\n",
       "        text-align: right;\n",
       "    }\n",
       "</style>\n",
       "<table border=\"1\" class=\"dataframe\">\n",
       "  <thead>\n",
       "    <tr style=\"text-align: right;\">\n",
       "      <th></th>\n",
       "      <th>TV</th>\n",
       "    </tr>\n",
       "  </thead>\n",
       "  <tbody>\n",
       "    <tr>\n",
       "      <th>0</th>\n",
       "      <td>0.7</td>\n",
       "    </tr>\n",
       "    <tr>\n",
       "      <th>1</th>\n",
       "      <td>296.4</td>\n",
       "    </tr>\n",
       "  </tbody>\n",
       "</table>\n",
       "</div>"
      ],
      "text/plain": [
       "      TV\n",
       "0    0.7\n",
       "1  296.4"
      ]
     },
     "execution_count": 18,
     "metadata": {},
     "output_type": "execute_result"
    }
   ],
   "source": [
    "# Create a DataFrame with the min & max value \n",
    "\n",
    "x_new = pd.DataFrame({'TV':[data.TV.min(),data.TV.max()]})\n",
    "x_new"
   ]
  },
  {
   "cell_type": "code",
   "execution_count": 19,
   "metadata": {},
   "outputs": [
    {
     "data": {
      "text/plain": [
       "array([ 7.0658692 , 21.12245377])"
      ]
     },
     "execution_count": 19,
     "metadata": {},
     "output_type": "execute_result"
    }
   ],
   "source": [
    "# predict the sales for min & max. and store them\n",
    "preds = lm.predict(x_new)\n",
    "preds"
   ]
  },
  {
   "cell_type": "code",
   "execution_count": 20,
   "metadata": {},
   "outputs": [
    {
     "data": {
      "text/plain": [
       "[<matplotlib.lines.Line2D at 0x2c4f5e67700>]"
      ]
     },
     "execution_count": 20,
     "metadata": {},
     "output_type": "execute_result"
    },
    {
     "data": {
      "image/png": "[encoded data removed]",
      "text/plain": [
       "<Figure size 432x288 with 1 Axes>"
      ]
     },
     "metadata": {
      "needs_background": "light"
     },
     "output_type": "display_data"
    }
   ],
   "source": [
    "# plot the predict data\n",
    "\n",
    "data.plot(kind='scatter', x='TV', y='sales')\n",
    "\n",
    "# then, plot the least square line\n",
    "plt.plot(x_new, preds, c='red', linewidth=2)"
   ]
  },
  {
   "cell_type": "markdown",
   "metadata": {},
   "source": [
    "## Model confidence\n",
    "\n",
    "#### How can I trust the model that the model is bulit is accurate by performance?Who is going to tell me that model is right?"
   ]
  },
  {
   "cell_type": "markdown",
   "metadata": {},
   "source": [
    "<b>Question : Is linear regression high bias/low varience or low bias/high varience model?</b><br>\n",
    "<b>Answer:</b> explain with example <b>exp, loc,tech.</b> Here, my model is giving high importance to only exp n less imp to loc n tech, it means its a high bias.With the same, if exp increses from 3.0 to 5.0 the salary will reflect it means its high varience.<br>\n",
    "hence, the Linear regession is a <b>high bias/low varience model.</b>"
   ]
  },
  {
   "cell_type": "code",
   "execution_count": 21,
   "metadata": {},
   "outputs": [
    {
     "data": {
      "text/html": [
       "<div>\n",
       "<style scoped>\n",
       "    .dataframe tbody tr th:only-of-type {\n",
       "        vertical-align: middle;\n",
       "    }\n",
       "\n",
       "    .dataframe tbody tr th {\n",
       "        vertical-align: top;\n",
       "    }\n",
       "\n",
       "    .dataframe thead th {\n",
       "        text-align: right;\n",
       "    }\n",
       "</style>\n",
       "<table border=\"1\" class=\"dataframe\">\n",
       "  <thead>\n",
       "    <tr style=\"text-align: right;\">\n",
       "      <th></th>\n",
       "      <th>0</th>\n",
       "      <th>1</th>\n",
       "    </tr>\n",
       "  </thead>\n",
       "  <tbody>\n",
       "    <tr>\n",
       "      <th>Intercept</th>\n",
       "      <td>6.129719</td>\n",
       "      <td>7.935468</td>\n",
       "    </tr>\n",
       "    <tr>\n",
       "      <th>TV</th>\n",
       "      <td>0.042231</td>\n",
       "      <td>0.052843</td>\n",
       "    </tr>\n",
       "  </tbody>\n",
       "</table>\n",
       "</div>"
      ],
      "text/plain": [
       "                  0         1\n",
       "Intercept  6.129719  7.935468\n",
       "TV         0.042231  0.052843"
      ]
     },
     "execution_count": 21,
     "metadata": {},
     "output_type": "execute_result"
    }
   ],
   "source": [
    "# Now, let's try to fit our model.\n",
    "\n",
    "import statsmodels.formula.api as smf\n",
    "lm = smf.ols(formula='sales ~ TV',data=data).fit()\n",
    "lm.conf_int()  #confidence interval"
   ]
  },
  {
   "cell_type": "markdown",
   "metadata": {},
   "source": [
    "### Hypothesis Testing and p_values\n",
    "\n",
    " - <b>Null Hypothesis</b>:It says, there is no relationship exit between features and lable.\n",
    " - <b>Alternative Hypothesis</b>:It says, there always be a realtionship exit between features and lable.<br>\n",
    "How do I conclude that there is a relation or not that's why the p_values comes into pitchure and if there is actually a relatioship between features and lable then nees to test it.That's why testing comes in pitchure. Hence, we have to go through the hypothesis testing and get the p-value."
   ]
  },
  {
   "cell_type": "code",
   "execution_count": 22,
   "metadata": {},
   "outputs": [
    {
     "data": {
      "text/plain": [
       "Intercept    1.406300e-35\n",
       "TV           1.467390e-42\n",
       "dtype: float64"
      ]
     },
     "execution_count": 22,
     "metadata": {},
     "output_type": "execute_result"
    }
   ],
   "source": [
    "# print the p_values.\n",
    "\n",
    "lm.pvalues"
   ]
  },
  {
   "cell_type": "markdown",
   "metadata": {},
   "source": [
    "p_value < 0.05 it means, we reject null hypothesis. Therefore, we are successful to prove the altenative hypothesis. "
   ]
  },
  {
   "cell_type": "markdown",
   "metadata": {},
   "source": [
    "## $R^2$ Statistics\n"
   ]
  },
  {
   "attachments": {
    "RSS%20&%20TSS.png": {
     "image/png": "[encoded data removed]"
    }
   },
   "cell_type": "markdown",
   "metadata": {},
   "source": [
    "![RSS%20&%20TSS.png](attachment:RSS%20&%20TSS.png)"
   ]
  },
  {
   "attachments": {
    "RSS%20stats.svg": {
     "image/svg+xml": [
      "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"
     ]
    }
   },
   "cell_type": "markdown",
   "metadata": {},
   "source": [
    "![RSS%20stats.svg](attachment:RSS%20stats.svg)"
   ]
  },
  {
   "cell_type": "markdown",
   "metadata": {},
   "source": [
    "we need to square them to avoid negativity. That will give a model confidence. It is always between 0-1 when we are using simple linear regression.But, there is a chance that r square will hit 1 or >1 in multiple linear regression, in that case we'll use adjusted r square statistics.<br>\n",
    "\n",
    "If we use r square for multiple linear regression then if i keep adding features then r square will reach at 1 wjich means at 100% or >100% which is not possible so to balance this we use adjusted r square."
   ]
  },
  {
   "cell_type": "markdown",
   "metadata": {},
   "source": [
    "## Adjusted $R^2$ Statistics"
   ]
  },
  {
   "cell_type": "markdown",
   "metadata": {},
   "source": [
    "Formula for Adjusted $R^2$ Statistics as follows : "
   ]
  },
  {
   "attachments": {
    "adjusted%20r%20square%20statistcs.png": {
     "image/png": "[encoded data removed]"
    }
   },
   "cell_type": "markdown",
   "metadata": {},
   "source": [
    "![adjusted%20r%20square%20statistcs.png](attachment:adjusted%20r%20square%20statistcs.png)"
   ]
  },
  {
   "cell_type": "code",
   "execution_count": 23,
   "metadata": {},
   "outputs": [
    {
     "data": {
      "text/plain": [
       "0.611875050850071"
      ]
     },
     "execution_count": 23,
     "metadata": {},
     "output_type": "execute_result"
    }
   ],
   "source": [
    "# print the R square value for the model.\n",
    "lm = smf.ols(formula='sales ~ TV',data=data).fit()\n",
    "lm.rsquared"
   ]
  },
  {
   "cell_type": "markdown",
   "metadata": {},
   "source": [
    "## Multiple linear Regression"
   ]
  },
  {
   "cell_type": "code",
   "execution_count": 24,
   "metadata": {},
   "outputs": [
    {
     "data": {
      "text/plain": [
       "LinearRegression()"
      ]
     },
     "execution_count": 24,
     "metadata": {},
     "output_type": "execute_result"
    }
   ],
   "source": [
    "# Create x and y\n",
    "\n",
    "x = data[['TV','radio','newspaper']]\n",
    "y = data.sales\n",
    "\n",
    "lm = LinearRegression()\n",
    "lm.fit(x,y)"
   ]
  },
  {
   "cell_type": "code",
   "execution_count": 25,
   "metadata": {},
   "outputs": [
    {
     "name": "stdout",
     "output_type": "stream",
     "text": [
      "Intercept   => 2.9388893694594067\n",
      "Coef_TV     => 0.04576464545539761\n",
      "Coef_radio  => 0.18853001691820462\n",
      "Coef_np     => -0.0010374930424762972\n"
     ]
    }
   ],
   "source": [
    "print('Intercept   =>',lm.intercept_)\n",
    "print('Coef_TV     =>',lm.coef_[0])\n",
    "print('Coef_radio  =>',lm.coef_[1])\n",
    "print('Coef_np     =>',lm.coef_[2])"
   ]
  },
  {
   "cell_type": "markdown",
   "metadata": {},
   "source": [
    "It shows investing in newspaper is waste of money.This is one of the proof.But we dont depend on just only one proof we'll check more."
   ]
  },
  {
   "cell_type": "code",
   "execution_count": 26,
   "metadata": {},
   "outputs": [
    {
     "data": {
      "text/html": [
       "<table class=\"simpletable\">\n",
       "<caption>OLS Regression Results</caption>\n",
       "<tr>\n",
       "  <th>Dep. Variable:</th>          <td>sales</td>      <th>  R-squared:         </th> <td>   0.897</td>\n",
       "</tr>\n",
       "<tr>\n",
       "  <th>Model:</th>                   <td>OLS</td>       <th>  Adj. R-squared:    </th> <td>   0.896</td>\n",
       "</tr>\n",
       "<tr>\n",
       "  <th>Method:</th>             <td>Least Squares</td>  <th>  F-statistic:       </th> <td>   570.3</td>\n",
       "</tr>\n",
       "<tr>\n",
       "  <th>Date:</th>             <td>Wed, 11 Aug 2021</td> <th>  Prob (F-statistic):</th> <td>1.58e-96</td>\n",
       "</tr>\n",
       "<tr>\n",
       "  <th>Time:</th>                 <td>10:43:30</td>     <th>  Log-Likelihood:    </th> <td> -386.18</td>\n",
       "</tr>\n",
       "<tr>\n",
       "  <th>No. Observations:</th>      <td>   200</td>      <th>  AIC:               </th> <td>   780.4</td>\n",
       "</tr>\n",
       "<tr>\n",
       "  <th>Df Residuals:</th>          <td>   196</td>      <th>  BIC:               </th> <td>   793.6</td>\n",
       "</tr>\n",
       "<tr>\n",
       "  <th>Df Model:</th>              <td>     3</td>      <th>                     </th>     <td> </td>   \n",
       "</tr>\n",
       "<tr>\n",
       "  <th>Covariance Type:</th>      <td>nonrobust</td>    <th>                     </th>     <td> </td>   \n",
       "</tr>\n",
       "</table>\n",
       "<table class=\"simpletable\">\n",
       "<tr>\n",
       "      <td></td>         <th>coef</th>     <th>std err</th>      <th>t</th>      <th>P>|t|</th>  <th>[0.025</th>    <th>0.975]</th>  \n",
       "</tr>\n",
       "<tr>\n",
       "  <th>Intercept</th> <td>    2.9389</td> <td>    0.312</td> <td>    9.422</td> <td> 0.000</td> <td>    2.324</td> <td>    3.554</td>\n",
       "</tr>\n",
       "<tr>\n",
       "  <th>TV</th>        <td>    0.0458</td> <td>    0.001</td> <td>   32.809</td> <td> 0.000</td> <td>    0.043</td> <td>    0.049</td>\n",
       "</tr>\n",
       "<tr>\n",
       "  <th>radio</th>     <td>    0.1885</td> <td>    0.009</td> <td>   21.893</td> <td> 0.000</td> <td>    0.172</td> <td>    0.206</td>\n",
       "</tr>\n",
       "<tr>\n",
       "  <th>newspaper</th> <td>   -0.0010</td> <td>    0.006</td> <td>   -0.177</td> <td> 0.860</td> <td>   -0.013</td> <td>    0.011</td>\n",
       "</tr>\n",
       "</table>\n",
       "<table class=\"simpletable\">\n",
       "<tr>\n",
       "  <th>Omnibus:</th>       <td>60.414</td> <th>  Durbin-Watson:     </th> <td>   2.084</td>\n",
       "</tr>\n",
       "<tr>\n",
       "  <th>Prob(Omnibus):</th> <td> 0.000</td> <th>  Jarque-Bera (JB):  </th> <td> 151.241</td>\n",
       "</tr>\n",
       "<tr>\n",
       "  <th>Skew:</th>          <td>-1.327</td> <th>  Prob(JB):          </th> <td>1.44e-33</td>\n",
       "</tr>\n",
       "<tr>\n",
       "  <th>Kurtosis:</th>      <td> 6.332</td> <th>  Cond. No.          </th> <td>    454.</td>\n",
       "</tr>\n",
       "</table><br/><br/>Notes:<br/>[1] Standard Errors assume that the covariance matrix of the errors is correctly specified."
      ],
      "text/plain": [
       "<class 'statsmodels.iolib.summary.Summary'>\n",
       "\"\"\"\n",
       "                            OLS Regression Results                            \n",
       "==============================================================================\n",
       "Dep. Variable:                  sales   R-squared:                       0.897\n",
       "Model:                            OLS   Adj. R-squared:                  0.896\n",
       "Method:                 Least Squares   F-statistic:                     570.3\n",
       "Date:                Wed, 11 Aug 2021   Prob (F-statistic):           1.58e-96\n",
       "Time:                        10:43:30   Log-Likelihood:                -386.18\n",
       "No. Observations:                 200   AIC:                             780.4\n",
       "Df Residuals:                     196   BIC:                             793.6\n",
       "Df Model:                           3                                         \n",
       "Covariance Type:            nonrobust                                         \n",
       "==============================================================================\n",
       "                 coef    std err          t      P>|t|      [0.025      0.975]\n",
       "------------------------------------------------------------------------------\n",
       "Intercept      2.9389      0.312      9.422      0.000       2.324       3.554\n",
       "TV             0.0458      0.001     32.809      0.000       0.043       0.049\n",
       "radio          0.1885      0.009     21.893      0.000       0.172       0.206\n",
       "newspaper     -0.0010      0.006     -0.177      0.860      -0.013       0.011\n",
       "==============================================================================\n",
       "Omnibus:                       60.414   Durbin-Watson:                   2.084\n",
       "Prob(Omnibus):                  0.000   Jarque-Bera (JB):              151.241\n",
       "Skew:                          -1.327   Prob(JB):                     1.44e-33\n",
       "Kurtosis:                       6.332   Cond. No.                         454.\n",
       "==============================================================================\n",
       "\n",
       "Notes:\n",
       "[1] Standard Errors assume that the covariance matrix of the errors is correctly specified.\n",
       "\"\"\""
      ]
     },
     "execution_count": 26,
     "metadata": {},
     "output_type": "execute_result"
    }
   ],
   "source": [
    "lm = smf.ols(formula = 'sales ~ TV+radio+newspaper',data=data).fit() #ordinal least squared methods\n",
    "lm.conf_int()\n",
    "lm.summary()"
   ]
  },
  {
   "cell_type": "markdown",
   "metadata": {},
   "source": [
    "Hence we failed to reject null hypothesis for newspaper"
   ]
  },
  {
   "cell_type": "code",
   "execution_count": 27,
   "metadata": {},
   "outputs": [
    {
     "data": {
      "text/plain": [
       "0.8971942610828957"
      ]
     },
     "execution_count": 27,
     "metadata": {},
     "output_type": "execute_result"
    }
   ],
   "source": [
    "# going to check for 2 feature n then 3 feature\n",
    "\n",
    "lm = smf.ols(formula='sales ~ TV+radio',data=data).fit()\n",
    "lm.rsquared"
   ]
  },
  {
   "cell_type": "code",
   "execution_count": 28,
   "metadata": {},
   "outputs": [
    {
     "data": {
      "text/plain": [
       "0.8972106381789522"
      ]
     },
     "execution_count": 28,
     "metadata": {},
     "output_type": "execute_result"
    }
   ],
   "source": [
    "lm = smf.ols(formula='sales ~ TV+radio+newspaper',data=data).fit()\n",
    "lm.rsquared"
   ]
  },
  {
   "cell_type": "markdown",
   "metadata": {},
   "source": [
    "We've one more method to get model confidence which is adjusted rsquared."
   ]
  },
  {
   "cell_type": "code",
   "execution_count": null,
   "metadata": {},
   "outputs": [],
   "source": []
  },
  {
   "cell_type": "code",
   "execution_count": null,
   "metadata": {},
   "outputs": [],
   "source": []
  },
  {
   "cell_type": "code",
   "execution_count": null,
   "metadata": {},
   "outputs": [],
   "source": []
  },
  {
   "cell_type": "code",
   "execution_count": null,
   "metadata": {},
   "outputs": [],
   "source": []
  },
  {
   "cell_type": "code",
   "execution_count": null,
   "metadata": {},
   "outputs": [],
   "source": []
  },
  {
   "cell_type": "code",
   "execution_count": null,
   "metadata": {},
   "outputs": [],
   "source": []
  },
  {
   "cell_type": "code",
   "execution_count": null,
   "metadata": {},
   "outputs": [],
   "source": []
  },
  {
   "cell_type": "code",
   "execution_count": null,
   "metadata": {},
   "outputs": [],
   "source": []
  },
  {
   "cell_type": "code",
   "execution_count": null,
   "metadata": {},
   "outputs": [],
   "source": []
  },
  {
   "cell_type": "code",
   "execution_count": null,
   "metadata": {},
   "outputs": [],
   "source": []
  },
  {
   "cell_type": "code",
   "execution_count": null,
   "metadata": {
    "scrolled": true
   },
   "outputs": [],
   "source": []
  },
  {
   "cell_type": "code",
   "execution_count": null,
   "metadata": {},
   "outputs": [],
   "source": []
  },
  {
   "cell_type": "markdown",
   "metadata": {},
   "source": []
  },
  {
   "cell_type": "code",
   "execution_count": null,
   "metadata": {
    "scrolled": true
   },
   "outputs": [],
   "source": []
  },
  {
   "cell_type": "markdown",
   "metadata": {},
   "source": []
  },
  {
   "cell_type": "code",
   "execution_count": null,
   "metadata": {},
   "outputs": [],
   "source": []
  },
  {
   "cell_type": "code",
   "execution_count": null,
   "metadata": {},
   "outputs": [],
   "source": []
  },
  {
   "cell_type": "code",
   "execution_count": null,
   "metadata": {},
   "outputs": [],
   "source": []
  },
  {
   "cell_type": "code",
   "execution_count": null,
   "metadata": {},
   "outputs": [],
   "source": []
  },
  {
   "cell_type": "code",
   "execution_count": null,
   "metadata": {},
   "outputs": [],
   "source": []
  },
  {
   "cell_type": "markdown",
   "metadata": {},
   "source": []
  },
  {
   "cell_type": "markdown",
   "metadata": {},
   "source": []
  },
  {
   "cell_type": "code",
   "execution_count": null,
   "metadata": {},
   "outputs": [],
   "source": []
  },
  {
   "cell_type": "markdown",
   "metadata": {},
   "source": []
  },
  {
   "cell_type": "code",
   "execution_count": null,
   "metadata": {},
   "outputs": [],
   "source": []
  },
  {
   "cell_type": "markdown",
   "metadata": {},
   "source": []
  },
  {
   "cell_type": "code",
   "execution_count": null,
   "metadata": {},
   "outputs": [],
   "source": []
  },
  {
   "cell_type": "code",
   "execution_count": null,
   "metadata": {},
   "outputs": [],
   "source": []
  },
  {
   "cell_type": "markdown",
   "metadata": {},
   "source": []
  },
  {
   "cell_type": "code",
   "execution_count": null,
   "metadata": {},
   "outputs": [],
   "source": []
  },
  {
   "cell_type": "code",
   "execution_count": null,
   "metadata": {},
   "outputs": [],
   "source": []
  },
  {
   "cell_type": "markdown",
   "metadata": {},
   "source": []
  },
  {
   "cell_type": "code",
   "execution_count": null,
   "metadata": {},
   "outputs": [],
   "source": []
  },
  {
   "cell_type": "markdown",
   "metadata": {},
   "source": []
  },
  {
   "cell_type": "code",
   "execution_count": null,
   "metadata": {},
   "outputs": [],
   "source": []
  },
  {
   "cell_type": "code",
   "execution_count": null,
   "metadata": {},
   "outputs": [],
   "source": []
  },
  {
   "cell_type": "markdown",
   "metadata": {},
   "source": []
  },
  {
   "cell_type": "markdown",
   "metadata": {},
   "source": []
  },
  {
   "cell_type": "code",
   "execution_count": null,
   "metadata": {},
   "outputs": [],
   "source": []
  },
  {
   "cell_type": "code",
   "execution_count": null,
   "metadata": {},
   "outputs": [],
   "source": []
  },
  {
   "cell_type": "code",
   "execution_count": null,
   "metadata": {},
   "outputs": [],
   "source": []
  },
  {
   "cell_type": "code",
   "execution_count": null,
   "metadata": {},
   "outputs": [],
   "source": []
  },
  {
   "cell_type": "code",
   "execution_count": null,
   "metadata": {},
   "outputs": [],
   "source": []
  },
  {
   "cell_type": "markdown",
   "metadata": {},
   "source": []
  },
  {
   "cell_type": "code",
   "execution_count": null,
   "metadata": {},
   "outputs": [],
   "source": []
  },
  {
   "cell_type": "markdown",
   "metadata": {},
   "source": []
  },
  {
   "cell_type": "code",
   "execution_count": null,
   "metadata": {},
   "outputs": [],
   "source": []
  },
  {
   "cell_type": "markdown",
   "metadata": {},
   "source": []
  },
  {
   "cell_type": "code",
   "execution_count": null,
   "metadata": {},
   "outputs": [],
   "source": []
  },
  {
   "cell_type": "code",
   "execution_count": null,
   "metadata": {},
   "outputs": [],
   "source": []
  },
  {
   "cell_type": "code",
   "execution_count": null,
   "metadata": {},
   "outputs": [],
   "source": []
  },
  {
   "cell_type": "code",
   "execution_count": null,
   "metadata": {},
   "outputs": [],
   "source": []
  },
  {
   "cell_type": "code",
   "execution_count": null,
   "metadata": {},
   "outputs": [],
   "source": []
  },
  {
   "cell_type": "markdown",
   "metadata": {},
   "source": []
  },
  {
   "cell_type": "code",
   "execution_count": null,
   "metadata": {},
   "outputs": [],
   "source": []
  },
  {
   "cell_type": "code",
   "execution_count": null,
   "metadata": {},
   "outputs": [],
   "source": []
  },
  {
   "cell_type": "code",
   "execution_count": null,
   "metadata": {},
   "outputs": [],
   "source": []
  },
  {
   "cell_type": "code",
   "execution_count": null,
   "metadata": {},
   "outputs": [],
   "source": []
  },
  {
   "cell_type": "markdown",
   "metadata": {},
   "source": []
  },
  {
   "cell_type": "markdown",
   "metadata": {},
   "source": []
  },
  {
   "cell_type": "code",
   "execution_count": null,
   "metadata": {},
   "outputs": [],
   "source": []
  }
 ],
 "metadata": {
  "kernelspec": {
   "display_name": "Python 3",
   "language": "python",
   "name": "python3"
  },
  "language_info": {
   "codemirror_mode": {
    "name": "ipython",
    "version": 3
   },
   "file_extension": ".py",
   "mimetype": "text/x-python",
   "name": "python",
   "nbconvert_exporter": "python",
   "pygments_lexer": "ipython3",
   "version": "3.8.5"
  }
 },
 "nbformat": 4,
 "nbformat_minor": 4
}
